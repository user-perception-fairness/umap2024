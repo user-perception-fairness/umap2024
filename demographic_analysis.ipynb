{
  "nbformat": 4,
  "nbformat_minor": 0,
  "metadata": {
    "colab": {
      "provenance": []
    },
    "kernelspec": {
      "name": "python3",
      "display_name": "Python 3"
    },
    "language_info": {
      "name": "python"
    }
  },
  "cells": [
    {
      "cell_type": "code",
      "execution_count": 61,
      "metadata": {
        "id": "qc0nXdll2zZ4"
      },
      "outputs": [],
      "source": [
        "import pandas as pd\n",
        "\n",
        "\n",
        "url = ## demographics csv here\n",
        "df = pd.read_csv(url)"
      ]
    },
    {
      "cell_type": "code",
      "source": [
        "\n",
        "#age analysis\n",
        "age_mapping = {\n",
        "    '18-21 anos': '18-21',\n",
        "    '22-25 anos': '22-25',\n",
        "    '26-29 anos': '26-29',\n",
        "    '30-33 anos': '30-33',\n",
        "    '34-37 anos': '34-37',\n",
        "    '38-40 anos': '38-40',\n",
        "    'Mais de 40 anos': 'Mais de 40'\n",
        "}\n",
        "\n",
        "df['age_group'] = df['age'].map(age_mapping)\n",
        "\n",
        "contingency_table = pd.crosstab(df['experiment_type'], df['age_group'])\n",
        "\n",
        "# chi-square test\n",
        "chi2, p, dof, expected = chi2_contingency(contingency_table)\n",
        "print('Chi-square Statistic:', chi2)\n",
        "print('P-value:', p)\n",
        "print(contingency_table)\n"
      ],
      "metadata": {
        "colab": {
          "base_uri": "https://localhost:8080/"
        },
        "id": "DA4sGrpUCl2V",
        "outputId": "2b301d4c-c920-44f2-adab-1549fe56fb6b"
      },
      "execution_count": 62,
      "outputs": [
        {
          "output_type": "stream",
          "name": "stdout",
          "text": [
            "Chi-square Statistic: 52.78111399558882\n",
            "P-value: 0.006266133657895473\n",
            "age_group        18-21  22-25  26-29  30-33  34-37  38-40  Mais de 40\n",
            "experiment_type                                                      \n",
            "0                   11     30     11     10     11      5           0\n",
            "1                    9     18     17      7      5      3           9\n",
            "2                   13     23     11     15      3      2           3\n",
            "3                    6     20     11     15      9      4           2\n",
            "4                    9     26      9     14      6      2           4\n",
            "5                   16     16     24     12      6      3           0\n"
          ]
        }
      ]
    },
    {
      "cell_type": "code",
      "source": [
        "#gender analysis\n",
        "\n",
        "contingency_table = pd.crosstab(df['experiment_type'], df['gender'])\n",
        "# chi-square test\n",
        "chi2, p, dof, expected = chi2_contingency(contingency_table)\n",
        "\n",
        "print(\"Chi-square Statistic:\", chi2)\n",
        "print(\"P-value:\", p)\n",
        "\n",
        "print(contingency_table)\n"
      ],
      "metadata": {
        "colab": {
          "base_uri": "https://localhost:8080/"
        },
        "id": "7c2QM8xeKjwA",
        "outputId": "e1404c42-d8bb-4139-a800-9c953cbf8d0f"
      },
      "execution_count": 63,
      "outputs": [
        {
          "output_type": "stream",
          "name": "stdout",
          "text": [
            "Chi-square Statistic: 9.399216900690627\n",
            "P-value: 0.49468119559862234\n",
            "gender           Feminino  Masculino  Outro\n",
            "experiment_type                            \n",
            "0                      78          0      0\n",
            "1                      64          3      1\n",
            "2                      68          2      0\n",
            "3                      66          1      0\n",
            "4                      69          1      0\n",
            "5                      75          2      0\n"
          ]
        }
      ]
    },
    {
      "cell_type": "code",
      "source": [
        "#education analysis\n",
        "\n",
        "contingency_table = pd.crosstab(df['experiment_type'], df['education'])\n",
        "\n",
        "# chi-square test\n",
        "chi2, p, dof, expected = chi2_contingency(contingency_table)\n",
        "\n",
        "\n",
        "print(f\"Chi-square Statistic: {chi2}\")\n",
        "print(f\"P-value: {p}\")\n",
        "\n",
        "\n",
        "\n",
        "new_order = [\n",
        "    'Ensino Médio incompleto',\n",
        "    'Ensino Médio completo',\n",
        "    'Ensino superior incompleto',\n",
        "    'Ensino superior completo',\n",
        "    'Pós graduação incompleta',\n",
        "    'Pós graduação completa'\n",
        "]\n",
        "\n",
        "contingency_table = contingency_table.reindex(new_order, axis=1)\n",
        "print(contingency_table)\n",
        "\n",
        "### ---- convert to years of study\n",
        "\n",
        "years_of_study = {\n",
        "    'Ensino Médio incompleto': 10,\n",
        "    'Ensino Médio completo': 12,\n",
        "    'Ensino superior incompleto': 14,\n",
        "    'Ensino superior completo': 16,\n",
        "    'Pós-graduação incompleta': 18,\n",
        "    'Pós-graduação completa': 20\n",
        "}\n",
        "\n",
        "df['years_of_study'] = df['education'].map(years_of_study)\n",
        "\n",
        "\n",
        "average_years_by_group = df.groupby('experiment_type')['years_of_study'].mean()\n",
        "\n",
        "print(average_years_by_group)"
      ],
      "metadata": {
        "colab": {
          "base_uri": "https://localhost:8080/"
        },
        "id": "SSvkDOcCNt5w",
        "outputId": "91104dd4-40fb-44bf-a00a-e3fc0cdcd179"
      },
      "execution_count": 64,
      "outputs": [
        {
          "output_type": "stream",
          "name": "stdout",
          "text": [
            "Chi-square Statistic: 29.081486938621417\n",
            "P-value: 0.2605239697376398\n",
            "education        Ensino Médio incompleto  Ensino Médio completo  \\\n",
            "experiment_type                                                   \n",
            "0                                      0                     19   \n",
            "1                                      3                     14   \n",
            "2                                      0                     10   \n",
            "3                                      0                     14   \n",
            "4                                      2                     10   \n",
            "5                                      2                     16   \n",
            "\n",
            "education        Ensino superior incompleto  Ensino superior completo  \\\n",
            "experiment_type                                                         \n",
            "0                                        14                        28   \n",
            "1                                        23                        18   \n",
            "2                                        25                        17   \n",
            "3                                        21                        20   \n",
            "4                                        24                        21   \n",
            "5                                        24                        20   \n",
            "\n",
            "education        Pós graduação incompleta  Pós graduação completa  \n",
            "experiment_type                                                    \n",
            "0                                       8                       9  \n",
            "1                                       3                       7  \n",
            "2                                       3                      15  \n",
            "3                                       4                       8  \n",
            "4                                       1                      12  \n",
            "5                                       3                      12  \n",
            "experiment_type\n",
            "0    14.295082\n",
            "1    13.931034\n",
            "2    14.269231\n",
            "3    14.218182\n",
            "4    14.245614\n",
            "5    14.000000\n",
            "Name: years_of_study, dtype: float64\n"
          ]
        }
      ]
    },
    {
      "cell_type": "code",
      "source": [
        "# marital status analysis\n",
        "\n",
        "contingency_table = pd.crosstab(df['experiment_type'], df['marital status '])\n",
        "\n",
        "# chi-square\n",
        "chi2, p, dof, expected = chi2_contingency(contingency_table)\n",
        "\n",
        "\n",
        "print(f\"Chi-square Statistic: {chi2}\")\n",
        "print(f\"P-value: {p}\")\n",
        "\n",
        "print(contingency_table)\n",
        "\n",
        "#------- single %\n",
        "\n",
        "contingency_table['Solteiro_Percent'] = (contingency_table['Solteiro(a)'] / contingency_table.sum(axis=1)) * 100\n",
        "\n",
        "percentage_solteiro = contingency_table['Solteiro_Percent']\n",
        "print(percentage_solteiro)"
      ],
      "metadata": {
        "colab": {
          "base_uri": "https://localhost:8080/"
        },
        "id": "2aOi292UQ2GY",
        "outputId": "eea4df7a-b10c-44bb-9c37-c9fe95d8dd7c"
      },
      "execution_count": 65,
      "outputs": [
        {
          "output_type": "stream",
          "name": "stdout",
          "text": [
            "Chi-square Statistic: 18.2888507139887\n",
            "P-value: 0.5683866783759819\n",
            "marital status   Casado(a)  Outro  Separado(a)  Solteiro(a)  União Estável\n",
            "experiment_type                                                           \n",
            "0                       15      2            1           52              8\n",
            "1                       20      0            1           37             10\n",
            "2                       17      0            0           47              6\n",
            "3                       17      2            0           42              6\n",
            "4                       15      1            0           51              3\n",
            "5                       18      0            2           50              7\n",
            "experiment_type\n",
            "0    66.666667\n",
            "1    54.411765\n",
            "2    67.142857\n",
            "3    62.686567\n",
            "4    72.857143\n",
            "5    64.935065\n",
            "Name: Solteiro_Percent, dtype: float64\n"
          ]
        }
      ]
    },
    {
      "cell_type": "code",
      "source": [
        "# movie enthusiast analysis\n",
        "\n",
        "contingency_table = pd.crosstab(df['experiment_type'], df['movie enthusiast'])\n",
        "chi2, p, dof, expected = chi2_contingency(contingency_table)\n",
        "\n",
        "print(f\"Chi-square Statistic: {chi2}\")\n",
        "print(f\"P-value: {p}\")\n",
        "print(contingency_table)\n",
        "\n",
        "likert_scale = {\n",
        "    'Concordo Totalmente': 7,\n",
        "    'Concordo Moderadamente': 6,\n",
        "    'Concordo Pouco': 5,\n",
        "    'Nem Concordo, Nem Discordo': 4,\n",
        "    'Discordo Pouco': 3,\n",
        "    'Discordo Moderadamente': 2,\n",
        "    'Discordo Totalmente': 1\n",
        "}\n",
        "\n",
        "df['enthusiast_score'] = df['movie enthusiast'].map(likert_scale)\n",
        "\n",
        "# get average scores\n",
        "average_scores = df.groupby('experiment_type')['enthusiast_score'].mean()\n",
        "\n",
        "print(average_scores)"
      ],
      "metadata": {
        "colab": {
          "base_uri": "https://localhost:8080/"
        },
        "id": "Ub08ItT5SetZ",
        "outputId": "30db5b43-2ef1-42fb-8fee-af670318766a"
      },
      "execution_count": 66,
      "outputs": [
        {
          "output_type": "stream",
          "name": "stdout",
          "text": [
            "Chi-square Statistic: 25.024960507519317\n",
            "P-value: 0.7238179407225658\n",
            "movie enthusiast  Concordo Moderadamente  Concordo Pouco  Concordo Totalmente  \\\n",
            "experiment_type                                                                 \n",
            "0                                     23              20                   13   \n",
            "1                                     17              14                   15   \n",
            "2                                     25              18                   14   \n",
            "3                                     28              12                   12   \n",
            "4                                     28              13                   16   \n",
            "5                                     25              15                   19   \n",
            "\n",
            "movie enthusiast  Discordo Moderadamente  Discordo Pouco  Discordo Totalmente  \\\n",
            "experiment_type                                                                 \n",
            "0                                      2               3                    2   \n",
            "1                                      2               6                    4   \n",
            "2                                      1               1                    0   \n",
            "3                                      1               4                    1   \n",
            "4                                      0               2                    0   \n",
            "5                                      1               4                    1   \n",
            "\n",
            "movie enthusiast  Nem Concordo, Nem Discordo  \n",
            "experiment_type                               \n",
            "0                                         15  \n",
            "1                                         10  \n",
            "2                                         11  \n",
            "3                                          9  \n",
            "4                                         11  \n",
            "5                                         12  \n",
            "experiment_type\n",
            "0    5.179487\n",
            "1    5.044118\n",
            "2    5.528571\n",
            "3    5.417910\n",
            "4    5.642857\n",
            "5    5.467532\n",
            "Name: enthusiast_score, dtype: float64\n"
          ]
        }
      ]
    },
    {
      "cell_type": "code",
      "source": [
        "# trust analysis\n",
        "\n",
        "contingency_table = pd.crosstab(df['experiment_type'], df['trust'])\n",
        "\n",
        "chi2, p, dof, expected = chi2_contingency(contingency_table)\n",
        "\n",
        "print(f\"Chi-square Statistic: {chi2}\")\n",
        "print(f\"P-value: {p}\")\n",
        "print(contingency_table)\n",
        "\n",
        "likert_scale = {\n",
        "    'Concordo Totalmente': 7,\n",
        "    'Concordo Moderadamente': 6,\n",
        "    'Concordo Pouco': 5,\n",
        "    'Nem Concordo, Nem Discordo': 4,\n",
        "    'Discordo Pouco': 3,\n",
        "    'Discordo Moderadamente': 2,\n",
        "    'Discordo Totalmente': 1\n",
        "}\n",
        "\n",
        "df['trust_score'] = df['trust'].map(likert_scale)\n",
        "\n",
        "average_scores = df.groupby('experiment_type')['trust_score'].mean()\n",
        "\n",
        "print(average_scores)"
      ],
      "metadata": {
        "colab": {
          "base_uri": "https://localhost:8080/"
        },
        "id": "hSEvazqYTvjD",
        "outputId": "bbf2e863-5173-4810-fb37-089d81f09d61"
      },
      "execution_count": 67,
      "outputs": [
        {
          "output_type": "stream",
          "name": "stdout",
          "text": [
            "Chi-square Statistic: 33.58332224452476\n",
            "P-value: 0.2977954985012616\n",
            "trust            Concordo Moderadamente  Concordo Pouco  Concordo Totalmente  \\\n",
            "experiment_type                                                                \n",
            "0                                    30              17                   15   \n",
            "1                                    24              21                    9   \n",
            "2                                    27              18                   16   \n",
            "3                                    28              18                   16   \n",
            "4                                    33               7                   17   \n",
            "5                                    25              23                   15   \n",
            "\n",
            "trust            Discordo Moderadamente  Discordo Pouco  Discordo Totalmente  \\\n",
            "experiment_type                                                                \n",
            "0                                     3               3                    2   \n",
            "1                                     1               2                    2   \n",
            "2                                     0               4                    1   \n",
            "3                                     0               2                    0   \n",
            "4                                     0               6                    2   \n",
            "5                                     1               6                    0   \n",
            "\n",
            "trust            Nem Concordo, Nem Discordo  \n",
            "experiment_type                              \n",
            "0                                         8  \n",
            "1                                         9  \n",
            "2                                         4  \n",
            "3                                         3  \n",
            "4                                         5  \n",
            "5                                         7  \n",
            "experiment_type\n",
            "0    5.371795\n",
            "1    5.264706\n",
            "2    5.614286\n",
            "3    5.791045\n",
            "4    5.600000\n",
            "5    5.428571\n",
            "Name: trust_score, dtype: float64\n"
          ]
        }
      ]
    }
  ]
}