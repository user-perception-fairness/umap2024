{
  "nbformat": 4,
  "nbformat_minor": 0,
  "metadata": {
    "colab": {
      "provenance": []
    },
    "kernelspec": {
      "name": "python3",
      "display_name": "Python 3"
    },
    "language_info": {
      "name": "python"
    }
  },
  "cells": [
    {
      "cell_type": "code",
      "source": [
        "pip install pingouin"
      ],
      "metadata": {
        "colab": {
          "base_uri": "https://localhost:8080/"
        },
        "id": "XhHrCIOMNl2P",
        "outputId": "93d8c3e1-2e9d-485d-c28e-9d0343361b98"
      },
      "execution_count": 1,
      "outputs": [
        {
          "output_type": "stream",
          "name": "stdout",
          "text": [
            "Collecting pingouin\n",
            "  Downloading pingouin-0.5.4-py2.py3-none-any.whl (198 kB)\n",
            "\u001b[2K     \u001b[90m━━━━━━━━━━━━━━━━━━━━━━━━━━━━━━━━━━━━━━━━\u001b[0m \u001b[32m198.9/198.9 kB\u001b[0m \u001b[31m2.0 MB/s\u001b[0m eta \u001b[36m0:00:00\u001b[0m\n",
            "\u001b[?25hRequirement already satisfied: numpy in /usr/local/lib/python3.10/dist-packages (from pingouin) (1.23.5)\n",
            "Requirement already satisfied: scipy in /usr/local/lib/python3.10/dist-packages (from pingouin) (1.11.4)\n",
            "Requirement already satisfied: pandas>=1.5 in /usr/local/lib/python3.10/dist-packages (from pingouin) (1.5.3)\n",
            "Requirement already satisfied: matplotlib in /usr/local/lib/python3.10/dist-packages (from pingouin) (3.7.1)\n",
            "Requirement already satisfied: seaborn in /usr/local/lib/python3.10/dist-packages (from pingouin) (0.13.1)\n",
            "Requirement already satisfied: statsmodels in /usr/local/lib/python3.10/dist-packages (from pingouin) (0.14.1)\n",
            "Requirement already satisfied: scikit-learn in /usr/local/lib/python3.10/dist-packages (from pingouin) (1.2.2)\n",
            "Collecting pandas-flavor (from pingouin)\n",
            "  Downloading pandas_flavor-0.6.0-py3-none-any.whl (7.2 kB)\n",
            "Requirement already satisfied: tabulate in /usr/local/lib/python3.10/dist-packages (from pingouin) (0.9.0)\n",
            "Requirement already satisfied: python-dateutil>=2.8.1 in /usr/local/lib/python3.10/dist-packages (from pandas>=1.5->pingouin) (2.8.2)\n",
            "Requirement already satisfied: pytz>=2020.1 in /usr/local/lib/python3.10/dist-packages (from pandas>=1.5->pingouin) (2023.3.post1)\n",
            "Requirement already satisfied: contourpy>=1.0.1 in /usr/local/lib/python3.10/dist-packages (from matplotlib->pingouin) (1.2.0)\n",
            "Requirement already satisfied: cycler>=0.10 in /usr/local/lib/python3.10/dist-packages (from matplotlib->pingouin) (0.12.1)\n",
            "Requirement already satisfied: fonttools>=4.22.0 in /usr/local/lib/python3.10/dist-packages (from matplotlib->pingouin) (4.47.2)\n",
            "Requirement already satisfied: kiwisolver>=1.0.1 in /usr/local/lib/python3.10/dist-packages (from matplotlib->pingouin) (1.4.5)\n",
            "Requirement already satisfied: packaging>=20.0 in /usr/local/lib/python3.10/dist-packages (from matplotlib->pingouin) (23.2)\n",
            "Requirement already satisfied: pillow>=6.2.0 in /usr/local/lib/python3.10/dist-packages (from matplotlib->pingouin) (9.4.0)\n",
            "Requirement already satisfied: pyparsing>=2.3.1 in /usr/local/lib/python3.10/dist-packages (from matplotlib->pingouin) (3.1.1)\n",
            "Requirement already satisfied: xarray in /usr/local/lib/python3.10/dist-packages (from pandas-flavor->pingouin) (2023.7.0)\n",
            "Requirement already satisfied: joblib>=1.1.1 in /usr/local/lib/python3.10/dist-packages (from scikit-learn->pingouin) (1.3.2)\n",
            "Requirement already satisfied: threadpoolctl>=2.0.0 in /usr/local/lib/python3.10/dist-packages (from scikit-learn->pingouin) (3.2.0)\n",
            "Requirement already satisfied: patsy>=0.5.4 in /usr/local/lib/python3.10/dist-packages (from statsmodels->pingouin) (0.5.6)\n",
            "Requirement already satisfied: six in /usr/local/lib/python3.10/dist-packages (from patsy>=0.5.4->statsmodels->pingouin) (1.16.0)\n",
            "Installing collected packages: pandas-flavor, pingouin\n",
            "Successfully installed pandas-flavor-0.6.0 pingouin-0.5.4\n"
          ]
        }
      ]
    },
    {
      "cell_type": "code",
      "execution_count": 26,
      "metadata": {
        "id": "5BaDrtKjxOfk"
      },
      "outputs": [],
      "source": [
        "\n",
        "from scipy.stats import kruskal\n",
        "import scikit_posthocs as sp\n",
        "import numpy as np\n",
        "import pingouin as pg\n",
        "import seaborn as sns\n",
        "import matplotlib.pyplot as plt\n",
        "from scipy.stats import shapiro\n",
        "from scipy.stats import friedmanchisquare\n",
        "import pandas as pds\n",
        "from scipy.stats import kruskal\n",
        "import pingouin as pg\n",
        "\n",
        "\n",
        "\n",
        "url = #survey CSV here\n",
        "df = pd.read_csv(url)\n",
        "columns_to_check = ['Q1', 'Q2', 'Q3', 'Q4', 'Q5', 'Q6', 'Q7', 'Q8', 'Q10', 'Q11', 'Q12', 'Q13', 'Q14', 'Q16', 'Q17']\n"
      ]
    },
    {
      "cell_type": "code",
      "source": [
        "\n",
        "for col in columns_to_check:\n",
        "\n",
        "    # Shapiro-Wilk test for normality\n",
        "    stat, p = shapiro(df[col].dropna())  # dropna() is used to remove any NaN values\n",
        "\n",
        "    if p > 0.05:\n",
        "        print(f\"{col} seems to have a normal distribution (p={p:.2f})\")\n",
        "    else:\n",
        "        print(f\"{col} does not seem to have a normal distribution (p={p:.2f})\")"
      ],
      "metadata": {
        "colab": {
          "base_uri": "https://localhost:8080/"
        },
        "id": "nDzBJQvrypY9",
        "outputId": "d6c50ea2-900f-4119-b9f3-097136a3e9a3"
      },
      "execution_count": null,
      "outputs": [
        {
          "output_type": "stream",
          "name": "stdout",
          "text": [
            "Q1 does not seem to have a normal distribution (p=0.00)\n",
            "Q2 does not seem to have a normal distribution (p=0.00)\n",
            "Q3 does not seem to have a normal distribution (p=0.00)\n",
            "Q4 does not seem to have a normal distribution (p=0.00)\n",
            "Q5 does not seem to have a normal distribution (p=0.00)\n",
            "Q6 does not seem to have a normal distribution (p=0.00)\n",
            "Q7 does not seem to have a normal distribution (p=0.00)\n",
            "Q8 does not seem to have a normal distribution (p=0.00)\n",
            "Q10 does not seem to have a normal distribution (p=0.00)\n",
            "Q11 does not seem to have a normal distribution (p=0.00)\n",
            "Q12 does not seem to have a normal distribution (p=0.00)\n",
            "Q13 does not seem to have a normal distribution (p=0.00)\n",
            "Q14 does not seem to have a normal distribution (p=0.00)\n",
            "Q16 does not seem to have a normal distribution (p=0.00)\n",
            "Q17 does not seem to have a normal distribution (p=0.00)\n"
          ]
        }
      ]
    },
    {
      "cell_type": "code",
      "source": [
        "\n",
        "means = df.groupby('experiment_type')[columns_to_check].mean().T.round(2)\n",
        "std_devs = df.groupby('experiment_type')[columns_to_check].std().T.round(2)\n",
        "\n",
        "combined = means.astype(str) + \" (\" + std_devs.astype(str) + \")\"\n",
        "\n",
        "\n",
        "print(\"Combined Means and Standard Deviations:\\n\", combined)\n"
      ],
      "metadata": {
        "colab": {
          "base_uri": "https://localhost:8080/"
        },
        "id": "Cj-lo-mKy8mw",
        "outputId": "fce26e2f-63da-4d6d-a046-fff0a15a1047"
      },
      "execution_count": null,
      "outputs": [
        {
          "output_type": "stream",
          "name": "stdout",
          "text": [
            "Combined Means and Standard Deviations:\n",
            " experiment_type            0            1            2            3  \\\n",
            "Q1               5.64 (1.48)  5.51 (1.56)  5.81 (1.11)  5.92 (1.25)   \n",
            "Q2               5.21 (1.88)  5.44 (1.63)  5.55 (1.34)  5.65 (1.29)   \n",
            "Q3               4.85 (2.08)   4.6 (2.01)  5.13 (2.03)  4.86 (1.82)   \n",
            "Q4                5.6 (1.44)  5.66 (1.71)  5.68 (1.37)   5.88 (1.4)   \n",
            "Q5               5.52 (1.44)  5.66 (1.27)  5.59 (1.27)  5.65 (1.24)   \n",
            "Q6               6.38 (1.22)  6.04 (1.36)  6.17 (1.05)   6.3 (1.15)   \n",
            "Q7                6.3 (1.07)  6.34 (1.15)  6.35 (1.07)   6.5 (0.89)   \n",
            "Q8               6.33 (1.28)  6.12 (1.31)  6.45 (0.99)  6.26 (1.21)   \n",
            "Q10              5.94 (1.05)   5.84 (1.3)  5.46 (1.36)  5.65 (1.43)   \n",
            "Q11              4.44 (1.26)   4.69 (1.3)  4.49 (1.36)  4.41 (1.49)   \n",
            "Q12              5.65 (1.43)   5.6 (1.52)  5.91 (1.19)  5.84 (1.28)   \n",
            "Q13              5.54 (1.54)  5.53 (1.41)  5.97 (1.02)  5.98 (1.38)   \n",
            "Q14              5.72 (1.71)  5.77 (1.66)  6.06 (1.35)  5.99 (1.28)   \n",
            "Q16              6.27 (1.22)  6.23 (1.06)  6.41 (1.06)  6.38 (1.05)   \n",
            "Q17              6.38 (1.17)  6.27 (0.95)  6.58 (0.72)   6.34 (1.1)   \n",
            "\n",
            "experiment_type            4            5  \n",
            "Q1                5.5 (1.55)  5.91 (1.31)  \n",
            "Q2               5.54 (1.71)  5.99 (1.15)  \n",
            "Q3                4.58 (2.0)  5.18 (1.77)  \n",
            "Q4               5.79 (1.62)  6.01 (1.33)  \n",
            "Q5               5.39 (1.53)  5.68 (1.42)  \n",
            "Q6               5.98 (1.55)  6.35 (1.17)  \n",
            "Q7               6.36 (1.09)  6.49 (0.91)  \n",
            "Q8               6.34 (1.03)  6.65 (0.62)  \n",
            "Q10              5.66 (1.35)  5.99 (1.27)  \n",
            "Q11              4.72 (1.31)   4.7 (1.47)  \n",
            "Q12              5.62 (1.48)  6.02 (1.22)  \n",
            "Q13              5.76 (1.48)  6.12 (1.16)  \n",
            "Q14              5.75 (1.81)  6.12 (1.22)  \n",
            "Q16              6.39 (0.94)  6.49 (1.05)  \n",
            "Q17               6.5 (0.86)   6.5 (0.96)  \n"
          ]
        }
      ]
    },
    {
      "cell_type": "code",
      "source": [
        "p_values_dict = {}\n",
        "\n",
        "for column in columns_to_check:\n",
        "    samples = [group[column].dropna().values for _, group in df.groupby('experiment_type')]\n",
        "    _, p = kruskal(*samples)\n",
        "    p_values_dict[column] = p\n",
        "\n",
        "\n",
        "\n",
        "means['p-value'] = pd.Series(p_values_dict)\n",
        "\n",
        "print(means)"
      ],
      "metadata": {
        "colab": {
          "base_uri": "https://localhost:8080/"
        },
        "id": "WJvHzvuszQgl",
        "outputId": "7ef4a8e6-ae94-4706-e9b4-4ec39d488fb5"
      },
      "execution_count": null,
      "outputs": [
        {
          "output_type": "stream",
          "name": "stdout",
          "text": [
            "experiment_type     0     1     2     3     4     5   p-value\n",
            "Q1               5.64  5.51  5.81  5.92  5.50  5.91  0.214190\n",
            "Q2               5.21  5.44  5.55  5.65  5.54  5.99  0.168404\n",
            "Q3               4.85  4.60  5.13  4.86  4.58  5.18  0.176207\n",
            "Q4               5.60  5.66  5.68  5.88  5.79  6.01  0.285408\n",
            "Q5               5.52  5.66  5.59  5.65  5.39  5.68  0.850081\n",
            "Q6               6.38  6.04  6.17  6.30  5.98  6.35  0.054971\n",
            "Q7               6.30  6.34  6.35  6.50  6.36  6.49  0.652556\n",
            "Q8               6.33  6.12  6.45  6.26  6.34  6.65  0.118194\n",
            "Q10              5.94  5.84  5.46  5.65  5.66  5.99  0.047373\n",
            "Q11              4.44  4.69  4.49  4.41  4.72  4.70  0.464500\n",
            "Q12              5.65  5.60  5.91  5.84  5.62  6.02  0.387362\n",
            "Q13              5.54  5.53  5.97  5.98  5.76  6.12  0.018212\n",
            "Q14              5.72  5.77  6.06  5.99  5.75  6.12  0.781203\n",
            "Q16              6.27  6.23  6.41  6.38  6.39  6.49  0.393729\n",
            "Q17              6.38  6.27  6.58  6.34  6.50  6.50  0.295850\n"
          ]
        }
      ]
    },
    {
      "cell_type": "code",
      "source": [
        "\n",
        "\n",
        "def posthoc(df, column_name):\n",
        "    df_column = df[['experiment_type', column_name]].copy()\n",
        "    median_column = df[column_name].median()\n",
        "    df_column.loc[:, column_name] = df_column[column_name].fillna(median_column)\n",
        "    mean_by_experiment_type = df_column.groupby('experiment_type')[column_name].mean()\n",
        "\n",
        "\n",
        "    print(f\"Mean {column_name} by experiment type:\")\n",
        "    print(mean_by_experiment_type)\n",
        "\n",
        "    experiment_groups = []\n",
        "    for experiment_type, group_data in df_column.groupby('experiment_type'):\n",
        "        experiment_groups.append(group_data[column_name].dropna())\n",
        "\n",
        "    # Run Kruskal-Wallis test\n",
        "    _, p_value = kruskal(*experiment_groups)\n",
        "    print(f\"Kruskal-Wallis p-value for {column_name}: {p_value}\")\n",
        "\n",
        "    # Run non-parametric pairwise comparisons\n",
        "    posthoc_comp = pg.pairwise_tests(data=df_column, dv=column_name, between='experiment_type', correction='auto', parametric=False)\n",
        "    print(f\"Pairwise non-parametric tests for {column_name}:\\n{posthoc_comp}\")\n",
        "\n",
        "\n"
      ],
      "metadata": {
        "id": "P4cQk6U0Nzjq"
      },
      "execution_count": 32,
      "outputs": []
    },
    {
      "cell_type": "code",
      "source": [
        "posthoc(df, 'Q6')"
      ],
      "metadata": {
        "colab": {
          "base_uri": "https://localhost:8080/"
        },
        "id": "43_hyU0fQbnW",
        "outputId": "183a0613-58f4-49b3-9f69-f0e50f46f35b"
      },
      "execution_count": 33,
      "outputs": [
        {
          "output_type": "stream",
          "name": "stdout",
          "text": [
            "Mean Q6 by experiment type:\n",
            "experiment_type\n",
            "0    6.382716\n",
            "1    6.038961\n",
            "2    6.166667\n",
            "3    6.300000\n",
            "4    5.975000\n",
            "5    6.350000\n",
            "Name: Q6, dtype: float64\n",
            "Kruskal-Wallis p-value for Q6: 0.054971014518015844\n",
            "Pairwise non-parametric tests for Q6:\n",
            "           Contrast  A  B  Paired  Parametric   U-val alternative     p-unc  \\\n",
            "0   experiment_type  0  1   False       False  3692.5   two-sided  0.023782   \n",
            "1   experiment_type  0  2   False       False  3711.5   two-sided  0.031327   \n",
            "2   experiment_type  0  3   False       False  3480.0   two-sided  0.342906   \n",
            "3   experiment_type  0  4   False       False  3802.0   two-sided  0.031567   \n",
            "4   experiment_type  0  5   False       False  3277.0   two-sided  0.881421   \n",
            "5   experiment_type  1  2   False       False  2950.5   two-sided  0.840212   \n",
            "6   experiment_type  1  3   False       False  2722.0   two-sided  0.164307   \n",
            "7   experiment_type  1  4   False       False  3026.5   two-sided  0.840155   \n",
            "8   experiment_type  1  5   False       False  2574.0   two-sided  0.044870   \n",
            "9   experiment_type  2  3   False       False  2798.5   two-sided  0.216221   \n",
            "10  experiment_type  2  4   False       False  3121.5   two-sided  0.996988   \n",
            "11  experiment_type  2  5   False       False  2632.5   two-sided  0.055859   \n",
            "12  experiment_type  3  4   False       False  3522.0   two-sided  0.223780   \n",
            "13  experiment_type  3  5   False       False  3009.0   two-sided  0.447593   \n",
            "14  experiment_type  4  5   False       False  2675.5   two-sided  0.043360   \n",
            "\n",
            "      hedges  \n",
            "0   0.264980  \n",
            "1   0.188642  \n",
            "2   0.069370  \n",
            "3   0.291045  \n",
            "4   0.027231  \n",
            "5  -0.104625  \n",
            "6  -0.206335  \n",
            "7   0.043568  \n",
            "8  -0.244174  \n",
            "9  -0.120350  \n",
            "10  0.143720  \n",
            "11 -0.164018  \n",
            "12  0.236818  \n",
            "13 -0.042859  \n",
            "14 -0.271689  \n"
          ]
        }
      ]
    },
    {
      "cell_type": "code",
      "source": [
        "posthoc(df, 'Q10')"
      ],
      "metadata": {
        "colab": {
          "base_uri": "https://localhost:8080/"
        },
        "id": "4UTv3C28QZ7R",
        "outputId": "f239deae-3f27-4681-9f60-19f77331302c"
      },
      "execution_count": 22,
      "outputs": [
        {
          "output_type": "stream",
          "name": "stdout",
          "text": [
            "Mean Q10 by experiment type:\n",
            "experiment_type\n",
            "0    5.938272\n",
            "1    5.844156\n",
            "2    5.461538\n",
            "3    5.650000\n",
            "4    5.662500\n",
            "5    5.987500\n",
            "Name: Q10, dtype: float64\n",
            "Kruskal-Wallis p-value for Q10: 0.04737292326556349\n",
            "Pairwise non-parametric tests for Q10:\n",
            "           Contrast  A  B  Paired  Parametric   U-val alternative     p-unc  \\\n",
            "0   experiment_type  0  1   False       False  3144.5   two-sided  0.925095   \n",
            "1   experiment_type  0  2   False       False  3764.5   two-sided  0.029095   \n",
            "2   experiment_type  0  3   False       False  3497.0   two-sided  0.358808   \n",
            "3   experiment_type  0  4   False       False  3549.5   two-sided  0.264766   \n",
            "4   experiment_type  0  5   False       False  2910.5   two-sided  0.234176   \n",
            "5   experiment_type  1  2   False       False  3530.0   two-sided  0.050160   \n",
            "6   experiment_type  1  3   False       False  3295.5   two-sided  0.428325   \n",
            "7   experiment_type  1  4   False       False  3341.0   two-sided  0.334497   \n",
            "8   experiment_type  1  5   False       False  2788.0   two-sided  0.277086   \n",
            "9   experiment_type  2  3   False       False  2799.5   two-sided  0.247982   \n",
            "10  experiment_type  2  4   False       False  2822.0   two-sided  0.280240   \n",
            "11  experiment_type  2  5   False       False  2341.0   two-sided  0.004601   \n",
            "12  experiment_type  3  4   False       False  3246.0   two-sided  0.869941   \n",
            "13  experiment_type  3  5   False       False  2689.0   two-sided  0.065214   \n",
            "14  experiment_type  4  5   False       False  2601.0   two-sided  0.029800   \n",
            "\n",
            "      hedges  \n",
            "0   0.079447  \n",
            "1   0.391928  \n",
            "2   0.228403  \n",
            "3   0.226938  \n",
            "4  -0.042068  \n",
            "5   0.286868  \n",
            "6   0.141176  \n",
            "7   0.136461  \n",
            "8  -0.111190  \n",
            "9  -0.134446  \n",
            "10 -0.147894  \n",
            "11 -0.399072  \n",
            "12 -0.008938  \n",
            "13 -0.248281  \n",
            "14 -0.247035  \n"
          ]
        }
      ]
    },
    {
      "cell_type": "code",
      "source": [
        "posthoc(df, 'Q13')"
      ],
      "metadata": {
        "colab": {
          "base_uri": "https://localhost:8080/"
        },
        "id": "yrnzpVcdQlj8",
        "outputId": "8262d485-7afe-47ca-8109-18a91c79cddf"
      },
      "execution_count": 34,
      "outputs": [
        {
          "output_type": "stream",
          "name": "stdout",
          "text": [
            "Mean Q13 by experiment type:\n",
            "experiment_type\n",
            "0    5.543210\n",
            "1    5.532468\n",
            "2    5.974359\n",
            "3    5.975000\n",
            "4    5.762500\n",
            "5    6.125000\n",
            "Name: Q13, dtype: float64\n",
            "Kruskal-Wallis p-value for Q13: 0.018212412278751044\n",
            "Pairwise non-parametric tests for Q13:\n",
            "           Contrast  A  B  Paired  Parametric   U-val alternative     p-unc  \\\n",
            "0   experiment_type  0  1   False       False  3223.5   two-sided  0.707186   \n",
            "1   experiment_type  0  2   False       False  2800.5   two-sided  0.198346   \n",
            "2   experiment_type  0  3   False       False  2719.0   two-sided  0.063862   \n",
            "3   experiment_type  0  4   False       False  2974.5   two-sided  0.349965   \n",
            "4   experiment_type  0  5   False       False  2557.0   two-sided  0.014566   \n",
            "5   experiment_type  1  2   False       False  2522.0   two-sided  0.071294   \n",
            "6   experiment_type  1  3   False       False  2367.0   two-sided  0.008611   \n",
            "7   experiment_type  1  4   False       False  2673.0   two-sided  0.137385   \n",
            "8   experiment_type  1  5   False       False  2246.0   two-sided  0.002122   \n",
            "9   experiment_type  2  3   False       False  2820.5   two-sided  0.268796   \n",
            "10  experiment_type  2  4   False       False  3152.5   two-sided  0.906799   \n",
            "11  experiment_type  2  5   False       False  2707.5   two-sided  0.127223   \n",
            "12  experiment_type  3  4   False       False  3488.5   two-sided  0.296368   \n",
            "13  experiment_type  3  5   False       False  3064.5   two-sided  0.618151   \n",
            "14  experiment_type  4  5   False       False  2781.5   two-sided  0.127930   \n",
            "\n",
            "      hedges  \n",
            "0   0.007228  \n",
            "1  -0.327171  \n",
            "2  -0.293862  \n",
            "3  -0.144529  \n",
            "4  -0.423780  \n",
            "5  -0.357773  \n",
            "6  -0.315960  \n",
            "7  -0.158417  \n",
            "8  -0.457116  \n",
            "9  -0.000526  \n",
            "10  0.165744  \n",
            "11 -0.137037  \n",
            "12  0.148045  \n",
            "13 -0.117122  \n",
            "14 -0.271381  \n"
          ]
        }
      ]
    },
    {
      "cell_type": "code",
      "source": [
        "\n",
        "def hedges_g(x1, x2):\n",
        "    \"\"\"Calculate Hedge's g effect size, including direction.\"\"\"\n",
        "    n1, n2 = len(x1), len(x2)\n",
        "    s1, s2 = np.var(x1, ddof=1), np.var(x2, ddof=1)\n",
        "    s = np.sqrt(((n1 - 1) * s1 + (n2 - 1) * s2) / (n1 + n2 - 2))\n",
        "    g = (np.mean(x1) - np.mean(x2)) / s  # Keep the direction\n",
        "    correction = 1 - (3 / (4*(n1 + n2) - 9))\n",
        "    g *= correction\n",
        "    return g\n",
        "\n",
        "def conover(df, column_name):\n",
        "    df_column = df[['experiment_type', column_name]].copy()\n",
        "    median_column = df[column_name].median()\n",
        "    df_column.loc[:, column_name] = df_column[column_name].fillna(median_column)\n",
        "    mean_by_experiment_type = df_column.groupby('experiment_type')[column_name].mean()\n",
        "\n",
        "    print(f\"Mean {column_name} by experiment type:\")\n",
        "    print(mean_by_experiment_type)\n",
        "\n",
        "    experiment_groups = [group[column_name].dropna().values for name, group in df_column.groupby('experiment_type')]\n",
        "\n",
        "    # Run Kruskal-Wallis test\n",
        "    _, p_value = kruskal(*experiment_groups)\n",
        "    print(f\"Kruskal-Wallis p-value for {column_name}: {p_value}\")\n",
        "\n",
        "    if p_value < 0.05:\n",
        "        # Run Conover test for pairwise comparisons\n",
        "        conover_result = sp.posthoc_conover(df_column, val_col=column_name, group_col='experiment_type', p_adjust=None)\n",
        "\n",
        "\n",
        "        for i in range(len(experiment_groups)):\n",
        "            for j in range(i+1, len(experiment_groups)):\n",
        "                p_val = conover_result.iloc[i, j]\n",
        "                g_value = hedges_g(experiment_groups[i], experiment_groups[j])\n",
        "                print(f\"Contrast between Group {i} and Group {j}: Conover p-value = {p_val:.6f}, Hedge's g = {g_value:.3f}\")\n",
        "    else:\n",
        "        print(\"No significant differences found by Kruskal-Wallis test.\")\n",
        "\n",
        "\n",
        "conover(df, 'Q13')\n"
      ],
      "metadata": {
        "colab": {
          "base_uri": "https://localhost:8080/"
        },
        "id": "ANm7jmevSL0D",
        "outputId": "b0491c22-05d1-42d5-bd1c-974a1f086abb"
      },
      "execution_count": 24,
      "outputs": [
        {
          "output_type": "stream",
          "name": "stdout",
          "text": [
            "Mean Q13 by experiment type:\n",
            "experiment_type\n",
            "0    5.543210\n",
            "1    5.532468\n",
            "2    5.974359\n",
            "3    5.975000\n",
            "4    5.762500\n",
            "5    6.125000\n",
            "Name: Q13, dtype: float64\n",
            "Kruskal-Wallis p-value for Q13: 0.018212412278751044\n",
            "Contrast between Group 0 and Group 1: Conover p-value = 0.570699, Hedge's g = 0.007\n",
            "Contrast between Group 0 and Group 2: Conover p-value = 0.257646, Hedge's g = -0.327\n",
            "Contrast between Group 0 and Group 3: Conover p-value = 0.038874, Hedge's g = -0.294\n",
            "Contrast between Group 0 and Group 4: Conover p-value = 0.318137, Hedge's g = -0.145\n",
            "Contrast between Group 0 and Group 5: Conover p-value = 0.010823, Hedge's g = -0.424\n",
            "Contrast between Group 1 and Group 2: Conover p-value = 0.093359, Hedge's g = -0.358\n",
            "Contrast between Group 1 and Group 3: Conover p-value = 0.009322, Hedge's g = -0.316\n",
            "Contrast between Group 1 and Group 4: Conover p-value = 0.121239, Hedge's g = -0.158\n",
            "Contrast between Group 1 and Group 5: Conover p-value = 0.002107, Hedge's g = -0.457\n",
            "Contrast between Group 2 and Group 3: Conover p-value = 0.357046, Hedge's g = -0.001\n",
            "Contrast between Group 2 and Group 4: Conover p-value = 0.888761, Hedge's g = 0.166\n",
            "Contrast between Group 2 and Group 5: Conover p-value = 0.160815, Hedge's g = -0.137\n",
            "Contrast between Group 3 and Group 4: Conover p-value = 0.285776, Hedge's g = 0.148\n",
            "Contrast between Group 3 and Group 5: Conover p-value = 0.627391, Hedge's g = -0.117\n",
            "Contrast between Group 4 and Group 5: Conover p-value = 0.120769, Hedge's g = -0.271\n"
          ]
        }
      ]
    }
  ]
}