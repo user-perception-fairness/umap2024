{
  "nbformat": 4,
  "nbformat_minor": 0,
  "metadata": {
    "colab": {
      "provenance": []
    },
    "kernelspec": {
      "name": "python3",
      "display_name": "Python 3"
    },
    "language_info": {
      "name": "python"
    }
  },
  "cells": [
    {
      "cell_type": "code",
      "source": [
        "pip install pingouin"
      ],
      "metadata": {
        "colab": {
          "base_uri": "https://localhost:8080/"
        },
        "id": "XhHrCIOMNl2P",
        "outputId": "c6b58be1-fcfb-49c7-ade6-5654ca5e3c7a"
      },
      "execution_count": 46,
      "outputs": [
        {
          "output_type": "stream",
          "name": "stdout",
          "text": [
            "Requirement already satisfied: pingouin in /usr/local/lib/python3.10/dist-packages (0.5.4)\n",
            "Requirement already satisfied: numpy in /usr/local/lib/python3.10/dist-packages (from pingouin) (1.23.5)\n",
            "Requirement already satisfied: scipy in /usr/local/lib/python3.10/dist-packages (from pingouin) (1.11.4)\n",
            "Requirement already satisfied: pandas>=1.5 in /usr/local/lib/python3.10/dist-packages (from pingouin) (1.5.3)\n",
            "Requirement already satisfied: matplotlib in /usr/local/lib/python3.10/dist-packages (from pingouin) (3.7.1)\n",
            "Requirement already satisfied: seaborn in /usr/local/lib/python3.10/dist-packages (from pingouin) (0.13.1)\n",
            "Requirement already satisfied: statsmodels in /usr/local/lib/python3.10/dist-packages (from pingouin) (0.14.1)\n",
            "Requirement already satisfied: scikit-learn in /usr/local/lib/python3.10/dist-packages (from pingouin) (1.2.2)\n",
            "Requirement already satisfied: pandas-flavor in /usr/local/lib/python3.10/dist-packages (from pingouin) (0.6.0)\n",
            "Requirement already satisfied: tabulate in /usr/local/lib/python3.10/dist-packages (from pingouin) (0.9.0)\n",
            "Requirement already satisfied: python-dateutil>=2.8.1 in /usr/local/lib/python3.10/dist-packages (from pandas>=1.5->pingouin) (2.8.2)\n",
            "Requirement already satisfied: pytz>=2020.1 in /usr/local/lib/python3.10/dist-packages (from pandas>=1.5->pingouin) (2023.3.post1)\n",
            "Requirement already satisfied: contourpy>=1.0.1 in /usr/local/lib/python3.10/dist-packages (from matplotlib->pingouin) (1.2.0)\n",
            "Requirement already satisfied: cycler>=0.10 in /usr/local/lib/python3.10/dist-packages (from matplotlib->pingouin) (0.12.1)\n",
            "Requirement already satisfied: fonttools>=4.22.0 in /usr/local/lib/python3.10/dist-packages (from matplotlib->pingouin) (4.47.2)\n",
            "Requirement already satisfied: kiwisolver>=1.0.1 in /usr/local/lib/python3.10/dist-packages (from matplotlib->pingouin) (1.4.5)\n",
            "Requirement already satisfied: packaging>=20.0 in /usr/local/lib/python3.10/dist-packages (from matplotlib->pingouin) (23.2)\n",
            "Requirement already satisfied: pillow>=6.2.0 in /usr/local/lib/python3.10/dist-packages (from matplotlib->pingouin) (9.4.0)\n",
            "Requirement already satisfied: pyparsing>=2.3.1 in /usr/local/lib/python3.10/dist-packages (from matplotlib->pingouin) (3.1.1)\n",
            "Requirement already satisfied: xarray in /usr/local/lib/python3.10/dist-packages (from pandas-flavor->pingouin) (2023.7.0)\n",
            "Requirement already satisfied: joblib>=1.1.1 in /usr/local/lib/python3.10/dist-packages (from scikit-learn->pingouin) (1.3.2)\n",
            "Requirement already satisfied: threadpoolctl>=2.0.0 in /usr/local/lib/python3.10/dist-packages (from scikit-learn->pingouin) (3.2.0)\n",
            "Requirement already satisfied: patsy>=0.5.4 in /usr/local/lib/python3.10/dist-packages (from statsmodels->pingouin) (0.5.6)\n",
            "Requirement already satisfied: six in /usr/local/lib/python3.10/dist-packages (from patsy>=0.5.4->statsmodels->pingouin) (1.16.0)\n"
          ]
        }
      ]
    },
    {
      "cell_type": "code",
      "execution_count": 47,
      "metadata": {
        "id": "5BaDrtKjxOfk"
      },
      "outputs": [],
      "source": [
        "\n",
        "from scipy.stats import kruskal\n",
        "import scikit_posthocs as sp\n",
        "import numpy as np\n",
        "import pingouin as pg\n",
        "import seaborn as sns\n",
        "import matplotlib.pyplot as plt\n",
        "from scipy.stats import shapiro\n",
        "from scipy.stats import friedmanchisquare\n",
        "import pandas as pds\n",
        "from scipy.stats import kruskal\n",
        "import pingouin as pg\n",
        "\n",
        "\n",
        "\n",
        "url = # Load the CSV file\n",
        "df = pd.read_csv(url)\n",
        "columns_to_check = ['Q1', 'Q2', 'Q3', 'Q4', 'Q5', 'Q6', 'Q7', 'Q8', 'Q10', 'Q11', 'Q12', 'Q13', 'Q14', 'Q16', 'Q17']\n"
      ]
    },
    {
      "cell_type": "code",
      "source": [
        "\n",
        "for col in columns_to_check:\n",
        "\n",
        "    # Shapiro-Wilk test for normality\n",
        "    stat, p = shapiro(df[col].dropna())  # dropna() is used to remove any NaN values\n",
        "\n",
        "    if p > 0.05:\n",
        "        print(f\"{col} seems to have a normal distribution (p={p:.2f})\")\n",
        "    else:\n",
        "        print(f\"{col} does not seem to have a normal distribution (p={p:.2f})\")"
      ],
      "metadata": {
        "colab": {
          "base_uri": "https://localhost:8080/"
        },
        "id": "nDzBJQvrypY9",
        "outputId": "f8f8fdbe-dfcc-43c5-92bb-92ca8e1afd0b"
      },
      "execution_count": 48,
      "outputs": [
        {
          "output_type": "stream",
          "name": "stdout",
          "text": [
            "Q1 does not seem to have a normal distribution (p=0.00)\n",
            "Q2 does not seem to have a normal distribution (p=0.00)\n",
            "Q3 does not seem to have a normal distribution (p=0.00)\n",
            "Q4 does not seem to have a normal distribution (p=0.00)\n",
            "Q5 does not seem to have a normal distribution (p=0.00)\n",
            "Q6 does not seem to have a normal distribution (p=0.00)\n",
            "Q7 does not seem to have a normal distribution (p=0.00)\n",
            "Q8 does not seem to have a normal distribution (p=0.00)\n",
            "Q10 does not seem to have a normal distribution (p=0.00)\n",
            "Q11 does not seem to have a normal distribution (p=0.00)\n",
            "Q12 does not seem to have a normal distribution (p=0.00)\n",
            "Q13 does not seem to have a normal distribution (p=0.00)\n",
            "Q14 does not seem to have a normal distribution (p=0.00)\n",
            "Q16 does not seem to have a normal distribution (p=0.00)\n",
            "Q17 does not seem to have a normal distribution (p=0.00)\n"
          ]
        }
      ]
    },
    {
      "cell_type": "code",
      "source": [
        "\n",
        "means = df.groupby('experiment_type')[columns_to_check].mean().T.round(2)\n",
        "std_devs = df.groupby('experiment_type')[columns_to_check].std().T.round(2)\n",
        "\n",
        "combined = means.astype(str) + \" (\" + std_devs.astype(str) + \")\"\n",
        "\n",
        "\n",
        "print(\"Combined Means and Standard Deviations:\\n\", combined)\n"
      ],
      "metadata": {
        "colab": {
          "base_uri": "https://localhost:8080/"
        },
        "id": "Cj-lo-mKy8mw",
        "outputId": "13ba166c-badd-4f48-b27e-e487fe7daa16"
      },
      "execution_count": 49,
      "outputs": [
        {
          "output_type": "stream",
          "name": "stdout",
          "text": [
            "Combined Means and Standard Deviations:\n",
            " experiment_type            0            1            2            3  \\\n",
            "Q1               5.64 (1.48)  5.51 (1.56)  5.81 (1.11)  5.92 (1.25)   \n",
            "Q2               5.21 (1.88)  5.44 (1.63)  5.55 (1.34)  5.65 (1.29)   \n",
            "Q3               4.85 (2.08)   4.6 (2.01)  5.13 (2.03)  4.86 (1.82)   \n",
            "Q4                5.6 (1.44)  5.66 (1.71)  5.68 (1.37)   5.88 (1.4)   \n",
            "Q5               5.52 (1.44)  5.66 (1.27)  5.59 (1.27)  5.65 (1.24)   \n",
            "Q6               6.38 (1.22)  6.04 (1.36)  6.17 (1.05)   6.3 (1.15)   \n",
            "Q7                6.3 (1.07)  6.34 (1.15)  6.35 (1.07)   6.5 (0.89)   \n",
            "Q8               6.33 (1.28)  6.12 (1.31)  6.45 (0.99)  6.26 (1.21)   \n",
            "Q10              5.94 (1.05)   5.84 (1.3)  5.46 (1.36)  5.65 (1.43)   \n",
            "Q11              4.44 (1.26)   4.69 (1.3)  4.49 (1.36)  4.41 (1.49)   \n",
            "Q12              5.65 (1.43)   5.6 (1.52)  5.91 (1.19)  5.84 (1.28)   \n",
            "Q13              5.54 (1.54)  5.53 (1.41)  5.97 (1.02)  5.98 (1.38)   \n",
            "Q14              5.72 (1.71)  5.77 (1.66)  6.06 (1.35)  5.99 (1.28)   \n",
            "Q16              6.27 (1.22)  6.23 (1.06)  6.41 (1.06)  6.38 (1.05)   \n",
            "Q17              6.38 (1.17)  6.27 (0.95)  6.58 (0.72)   6.34 (1.1)   \n",
            "\n",
            "experiment_type            4            5  \n",
            "Q1                5.5 (1.55)  5.91 (1.31)  \n",
            "Q2               5.54 (1.71)  5.99 (1.15)  \n",
            "Q3                4.58 (2.0)  5.18 (1.77)  \n",
            "Q4               5.79 (1.62)  6.01 (1.33)  \n",
            "Q5               5.39 (1.53)  5.68 (1.42)  \n",
            "Q6               5.98 (1.55)  6.35 (1.17)  \n",
            "Q7               6.36 (1.09)  6.49 (0.91)  \n",
            "Q8               6.34 (1.03)  6.65 (0.62)  \n",
            "Q10              5.66 (1.35)  5.99 (1.27)  \n",
            "Q11              4.72 (1.31)   4.7 (1.47)  \n",
            "Q12              5.62 (1.48)  6.02 (1.22)  \n",
            "Q13              5.76 (1.48)  6.12 (1.16)  \n",
            "Q14              5.75 (1.81)  6.12 (1.22)  \n",
            "Q16              6.39 (0.94)  6.49 (1.05)  \n",
            "Q17               6.5 (0.86)   6.5 (0.96)  \n"
          ]
        }
      ]
    },
    {
      "cell_type": "code",
      "source": [
        "p_values_dict = {}\n",
        "\n",
        "for column in columns_to_check:\n",
        "    samples = [group[column].dropna().values for _, group in df.groupby('experiment_type')]\n",
        "    _, p = kruskal(*samples)\n",
        "    p_values_dict[column] = p\n",
        "\n",
        "\n",
        "\n",
        "means['p-value'] = pd.Series(p_values_dict)\n",
        "\n",
        "print(means)"
      ],
      "metadata": {
        "colab": {
          "base_uri": "https://localhost:8080/"
        },
        "id": "WJvHzvuszQgl",
        "outputId": "32f0fad0-c2d3-4a63-a5cf-98d67984050a"
      },
      "execution_count": 50,
      "outputs": [
        {
          "output_type": "stream",
          "name": "stdout",
          "text": [
            "experiment_type     0     1     2     3     4     5   p-value\n",
            "Q1               5.64  5.51  5.81  5.92  5.50  5.91  0.214190\n",
            "Q2               5.21  5.44  5.55  5.65  5.54  5.99  0.168404\n",
            "Q3               4.85  4.60  5.13  4.86  4.58  5.18  0.176207\n",
            "Q4               5.60  5.66  5.68  5.88  5.79  6.01  0.285408\n",
            "Q5               5.52  5.66  5.59  5.65  5.39  5.68  0.850081\n",
            "Q6               6.38  6.04  6.17  6.30  5.98  6.35  0.054971\n",
            "Q7               6.30  6.34  6.35  6.50  6.36  6.49  0.652556\n",
            "Q8               6.33  6.12  6.45  6.26  6.34  6.65  0.118194\n",
            "Q10              5.94  5.84  5.46  5.65  5.66  5.99  0.047373\n",
            "Q11              4.44  4.69  4.49  4.41  4.72  4.70  0.464500\n",
            "Q12              5.65  5.60  5.91  5.84  5.62  6.02  0.387362\n",
            "Q13              5.54  5.53  5.97  5.98  5.76  6.12  0.018212\n",
            "Q14              5.72  5.77  6.06  5.99  5.75  6.12  0.781203\n",
            "Q16              6.27  6.23  6.41  6.38  6.39  6.49  0.393729\n",
            "Q17              6.38  6.27  6.58  6.34  6.50  6.50  0.295850\n"
          ]
        }
      ]
    },
    {
      "cell_type": "code",
      "source": [
        "\n",
        "def posthoc(df, column_name):\n",
        "    df_column = df[['experiment_type', column_name]]\n",
        "\n",
        "    experiment_groups = []\n",
        "    for experiment_type, group_data in df_column.groupby('experiment_type'):\n",
        "        experiment_groups.append(group_data[column_name].dropna())\n",
        "\n",
        "    # Run Kruskal-Wallis test\n",
        "    _, p_value = kruskal(*experiment_groups)\n",
        "    print(f\"Kruskal-Wallis p-value for {column_name}:\", p_value)\n",
        "\n",
        "    # post hoc - pairwise_ttests\n",
        "    posthoc_comp = pg.pairwise_tests(data=df_column, dv=column_name, between='experiment_type')\n",
        "    print(f\"Post Hoc Test for {column_name}:\\n\", posthoc_comp)"
      ],
      "metadata": {
        "id": "P4cQk6U0Nzjq"
      },
      "execution_count": 61,
      "outputs": []
    },
    {
      "cell_type": "code",
      "source": [
        "posthoc(df, 'Q6')"
      ],
      "metadata": {
        "colab": {
          "base_uri": "https://localhost:8080/"
        },
        "id": "43_hyU0fQbnW",
        "outputId": "229903b6-5d84-44a0-ef93-fe777ca2a545"
      },
      "execution_count": 62,
      "outputs": [
        {
          "output_type": "stream",
          "name": "stdout",
          "text": [
            "Kruskal-Wallis p-value for Q6: 0.054971014518015844\n",
            "Post Hoc Test for Q6:\n",
            "            Contrast  A  B  Paired  Parametric         T         dof  \\\n",
            "0   experiment_type  0  1   False        True  1.668252  152.121035   \n",
            "1   experiment_type  0  2   False        True  1.198244  155.056324   \n",
            "2   experiment_type  0  3   False        True  0.442342  158.674812   \n",
            "3   experiment_type  0  4   False        True  1.852479  149.842501   \n",
            "4   experiment_type  0  5   False        True  0.173626  158.863274   \n",
            "5   experiment_type  1  2   False        True -0.653406  142.818026   \n",
            "6   experiment_type  1  3   False        True -1.294612  148.826471   \n",
            "7   experiment_type  1  4   False        True  0.274914  153.722640   \n",
            "8   experiment_type  1  5   False        True -1.532479  149.697761   \n",
            "9   experiment_type  2  3   False        True -0.760886  155.298364   \n",
            "10  experiment_type  2  4   False        True  0.911870  139.166586   \n",
            "11  experiment_type  2  5   False        True -1.037173  154.931206   \n",
            "12  experiment_type  3  4   False        True  1.504925  158.000000   \n",
            "13  experiment_type  3  5   False        True -0.272357  158.000000   \n",
            "14  experiment_type  4  5   False        True -1.726523  158.000000   \n",
            "\n",
            "   alternative     p-unc   BF10    hedges  \n",
            "0    two-sided  0.097323  0.616  0.264980  \n",
            "1    two-sided  0.232651  0.332  0.188642  \n",
            "2    two-sided  0.658844  0.186  0.069370  \n",
            "3    two-sided  0.065924  0.822  0.291045  \n",
            "4    two-sided  0.862381  0.173  0.027231  \n",
            "5    two-sided  0.514545  0.211 -0.104625  \n",
            "6    two-sided  0.197459  0.372 -0.206335  \n",
            "7    two-sided  0.783751  0.178  0.043568  \n",
            "8    two-sided  0.127515  0.506 -0.244174  \n",
            "9    two-sided  0.447879  0.224 -0.120350  \n",
            "10   two-sided  0.363414  0.252  0.143720  \n",
            "11   two-sided  0.301271  0.282 -0.164018  \n",
            "12   two-sided  0.134340  0.484  0.236818  \n",
            "13   two-sided  0.785703  0.177 -0.042859  \n",
            "14   two-sided  0.086208  0.671 -0.271689  \n"
          ]
        }
      ]
    },
    {
      "cell_type": "code",
      "source": [
        "posthoc(df, 'Q10')"
      ],
      "metadata": {
        "colab": {
          "base_uri": "https://localhost:8080/"
        },
        "id": "4UTv3C28QZ7R",
        "outputId": "5ed19a6b-5313-45d4-b136-902808ca0c24"
      },
      "execution_count": 63,
      "outputs": [
        {
          "output_type": "stream",
          "name": "stdout",
          "text": [
            "Kruskal-Wallis p-value for Q10: 0.04737292326556349\n",
            "Post Hoc Test for Q10:\n",
            "            Contrast  A  B  Paired  Parametric         T         dof  \\\n",
            "0   experiment_type  0  1   False        True  0.498939  146.376531   \n",
            "1   experiment_type  0  2   False        True  2.470833  145.293821   \n",
            "2   experiment_type  0  3   False        True  1.453186  145.004691   \n",
            "3   experiment_type  0  4   False        True  1.444366  149.265252   \n",
            "4   experiment_type  0  5   False        True -0.267847  153.121685   \n",
            "5   experiment_type  1  2   False        True  1.795008  152.865332   \n",
            "6   experiment_type  1  3   False        True  0.890290  154.445573   \n",
            "7   experiment_type  1  4   False        True  0.859567  154.999996   \n",
            "8   experiment_type  1  5   False        True -0.699548  154.400997   \n",
            "9   experiment_type  2  3   False        True -0.849606  155.856455   \n",
            "10  experiment_type  2  4   False        True -0.933871  155.864105   \n",
            "11  experiment_type  2  5   False        True -2.517931  154.695188   \n",
            "12  experiment_type  3  4   False        True -0.056800  158.000000   \n",
            "13  experiment_type  3  5   False        True -1.577766  158.000000   \n",
            "14  experiment_type  4  5   False        True -1.569847  158.000000   \n",
            "\n",
            "   alternative     p-unc   BF10    hedges  \n",
            "0    two-sided  0.618572  0.193  0.079447  \n",
            "1    two-sided  0.014636  2.771  0.391928  \n",
            "2    two-sided  0.148333   0.45  0.228403  \n",
            "3    two-sided  0.150732  0.445  0.226938  \n",
            "4    two-sided  0.789178  0.176 -0.042068  \n",
            "5    two-sided  0.074628  0.757  0.286868  \n",
            "6    two-sided  0.374695  0.248  0.141176  \n",
            "7    two-sided  0.391355  0.242  0.136461  \n",
            "8    two-sided  0.485262  0.216 -0.111190  \n",
            "9    two-sided  0.396847  0.239 -0.134446  \n",
            "10   two-sided  0.351815  0.257 -0.147894  \n",
            "11   two-sided  0.012822  3.084 -0.399072  \n",
            "12   two-sided  0.954777  0.171 -0.008938  \n",
            "13   two-sided  0.116619  0.536 -0.248281  \n",
            "14   two-sided  0.118451   0.53 -0.247035  \n"
          ]
        }
      ]
    },
    {
      "cell_type": "code",
      "source": [
        "posthoc(df, 'Q13')"
      ],
      "metadata": {
        "colab": {
          "base_uri": "https://localhost:8080/"
        },
        "id": "yrnzpVcdQlj8",
        "outputId": "86be1e26-8711-45ee-ca09-7fba3d6604c5"
      },
      "execution_count": 64,
      "outputs": [
        {
          "output_type": "stream",
          "name": "stdout",
          "text": [
            "Kruskal-Wallis p-value for Q13: 0.018212412278751044\n",
            "Post Hoc Test for Q13:\n",
            "            Contrast  A  B  Paired  Parametric         T         dof  \\\n",
            "0   experiment_type  0  1   False        True  0.045736  155.776353   \n",
            "1   experiment_type  0  2   False        True -2.087756  139.278514   \n",
            "2   experiment_type  0  3   False        True -1.874472  157.443266   \n",
            "3   experiment_type  0  4   False        True -0.921513  158.858885   \n",
            "4   experiment_type  0  5   False        True -2.705941  148.718065   \n",
            "5   experiment_type  1  2   False        True -2.233500  138.268793   \n",
            "6   experiment_type  1  3   False        True -1.987866  154.409198   \n",
            "7   experiment_type  1  4   False        True -0.998027  154.989741   \n",
            "8   experiment_type  1  5   False        True -2.866700  147.297101   \n",
            "9   experiment_type  2  3   False        True -0.003331  145.517477   \n",
            "10  experiment_type  2  4   False        True  1.051389  140.551629   \n",
            "11  experiment_type  2  5   False        True -0.866809  154.276329   \n",
            "12  experiment_type  3  4   False        True  0.940794  158.000000   \n",
            "13  experiment_type  3  5   False        True -0.744281  158.000000   \n",
            "14  experiment_type  4  5   False        True -1.724565  158.000000   \n",
            "\n",
            "   alternative     p-unc   BF10    hedges  \n",
            "0    two-sided  0.963580  0.172  0.007228  \n",
            "1    two-sided  0.038641  1.259 -0.327171  \n",
            "2    two-sided  0.062718  0.854 -0.293862  \n",
            "3    two-sided  0.358180  0.252 -0.144529  \n",
            "4    two-sided  0.007607  4.772 -0.423780  \n",
            "5    two-sided  0.027122  1.686 -0.357773  \n",
            "6    two-sided  0.048595  1.051 -0.315960  \n",
            "7    two-sided  0.319822  0.272 -0.158417  \n",
            "8    two-sided  0.004756  7.153 -0.457116  \n",
            "9    two-sided  0.997347  0.172 -0.000526  \n",
            "10   two-sided  0.294884  0.286  0.165744  \n",
            "11   two-sided  0.387393  0.243 -0.137037  \n",
            "12   two-sided  0.348246  0.257  0.148045  \n",
            "13   two-sided  0.457812   0.22 -0.117122  \n",
            "14   two-sided  0.086561  0.669 -0.271381  \n"
          ]
        }
      ]
    }
  ]
}