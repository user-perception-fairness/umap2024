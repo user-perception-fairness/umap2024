{
  "nbformat": 4,
  "nbformat_minor": 0,
  "metadata": {
    "colab": {
      "provenance": []
    },
    "kernelspec": {
      "name": "python3",
      "display_name": "Python 3"
    },
    "language_info": {
      "name": "python"
    }
  },
  "cells": [
    {
      "cell_type": "code",
      "execution_count": 5,
      "metadata": {
        "id": "5BaDrtKjxOfk"
      },
      "outputs": [],
      "source": [
        "\n",
        "import numpy as np\n",
        "import seaborn as sns\n",
        "from scipy.stats import kruskal\n",
        "import pandas as pd\n",
        "import matplotlib.pyplot as plt\n",
        "from scipy.stats import shapiro\n",
        "from scipy.stats import friedmanchisquare\n",
        "\n",
        "\n",
        "# Load the CSV file\n",
        "url = \"https://raw.githubusercontent.com/gaahbie/perceived-fairness/main/experiment_new_calibration%20-%20survey%20(2).csv\"\n",
        "df = pd.read_csv(url)\n",
        "columns_to_check = ['Q1', 'Q2', 'Q3', 'Q4', 'Q5', 'Q6', 'Q7', 'Q8', 'Q10', 'Q11', 'Q12', 'Q13', 'Q14', 'Q16', 'Q17']\n",
        ""
      ]
    },
    {
      "cell_type": "code",
      "source": [
        "\n",
        "for col in columns_to_check:\n",
        "\n",
        "    # Shapiro-Wilk test for normality\n",
        "    stat, p = shapiro(df[col].dropna())  # dropna() is used to remove any NaN values\n",
        "\n",
        "    if p > 0.05:\n",
        "        print(f\"{col} seems to have a normal distribution (p={p:.2f})\")\n",
        "    else:\n",
        "        print(f\"{col} does not seem to have a normal distribution (p={p:.2f})\")"
      ],
      "metadata": {
        "colab": {
          "base_uri": "https://localhost:8080/"
        },
        "id": "nDzBJQvrypY9",
        "outputId": "d6c50ea2-900f-4119-b9f3-097136a3e9a3"
      },
      "execution_count": 8,
      "outputs": [
        {
          "output_type": "stream",
          "name": "stdout",
          "text": [
            "Q1 does not seem to have a normal distribution (p=0.00)\n",
            "Q2 does not seem to have a normal distribution (p=0.00)\n",
            "Q3 does not seem to have a normal distribution (p=0.00)\n",
            "Q4 does not seem to have a normal distribution (p=0.00)\n",
            "Q5 does not seem to have a normal distribution (p=0.00)\n",
            "Q6 does not seem to have a normal distribution (p=0.00)\n",
            "Q7 does not seem to have a normal distribution (p=0.00)\n",
            "Q8 does not seem to have a normal distribution (p=0.00)\n",
            "Q10 does not seem to have a normal distribution (p=0.00)\n",
            "Q11 does not seem to have a normal distribution (p=0.00)\n",
            "Q12 does not seem to have a normal distribution (p=0.00)\n",
            "Q13 does not seem to have a normal distribution (p=0.00)\n",
            "Q14 does not seem to have a normal distribution (p=0.00)\n",
            "Q16 does not seem to have a normal distribution (p=0.00)\n",
            "Q17 does not seem to have a normal distribution (p=0.00)\n"
          ]
        }
      ]
    },
    {
      "cell_type": "code",
      "source": [
        "\n",
        "means = df.groupby('experiment_type')[columns_to_check].mean().T.round(2)\n",
        "std_devs = df.groupby('experiment_type')[columns_to_check].std().T.round(2)\n",
        "\n",
        "# Combine the mean and standard deviation in the format mean (std_dev)\n",
        "combined = means.astype(str) + \" (\" + std_devs.astype(str) + \")\"\n",
        "\n",
        "\n",
        "print(\"Combined Means and Standard Deviations:\\n\", combined)\n"
      ],
      "metadata": {
        "colab": {
          "base_uri": "https://localhost:8080/"
        },
        "id": "Cj-lo-mKy8mw",
        "outputId": "fce26e2f-63da-4d6d-a046-fff0a15a1047"
      },
      "execution_count": 10,
      "outputs": [
        {
          "output_type": "stream",
          "name": "stdout",
          "text": [
            "Combined Means and Standard Deviations:\n",
            " experiment_type            0            1            2            3  \\\n",
            "Q1               5.64 (1.48)  5.51 (1.56)  5.81 (1.11)  5.92 (1.25)   \n",
            "Q2               5.21 (1.88)  5.44 (1.63)  5.55 (1.34)  5.65 (1.29)   \n",
            "Q3               4.85 (2.08)   4.6 (2.01)  5.13 (2.03)  4.86 (1.82)   \n",
            "Q4                5.6 (1.44)  5.66 (1.71)  5.68 (1.37)   5.88 (1.4)   \n",
            "Q5               5.52 (1.44)  5.66 (1.27)  5.59 (1.27)  5.65 (1.24)   \n",
            "Q6               6.38 (1.22)  6.04 (1.36)  6.17 (1.05)   6.3 (1.15)   \n",
            "Q7                6.3 (1.07)  6.34 (1.15)  6.35 (1.07)   6.5 (0.89)   \n",
            "Q8               6.33 (1.28)  6.12 (1.31)  6.45 (0.99)  6.26 (1.21)   \n",
            "Q10              5.94 (1.05)   5.84 (1.3)  5.46 (1.36)  5.65 (1.43)   \n",
            "Q11              4.44 (1.26)   4.69 (1.3)  4.49 (1.36)  4.41 (1.49)   \n",
            "Q12              5.65 (1.43)   5.6 (1.52)  5.91 (1.19)  5.84 (1.28)   \n",
            "Q13              5.54 (1.54)  5.53 (1.41)  5.97 (1.02)  5.98 (1.38)   \n",
            "Q14              5.72 (1.71)  5.77 (1.66)  6.06 (1.35)  5.99 (1.28)   \n",
            "Q16              6.27 (1.22)  6.23 (1.06)  6.41 (1.06)  6.38 (1.05)   \n",
            "Q17              6.38 (1.17)  6.27 (0.95)  6.58 (0.72)   6.34 (1.1)   \n",
            "\n",
            "experiment_type            4            5  \n",
            "Q1                5.5 (1.55)  5.91 (1.31)  \n",
            "Q2               5.54 (1.71)  5.99 (1.15)  \n",
            "Q3                4.58 (2.0)  5.18 (1.77)  \n",
            "Q4               5.79 (1.62)  6.01 (1.33)  \n",
            "Q5               5.39 (1.53)  5.68 (1.42)  \n",
            "Q6               5.98 (1.55)  6.35 (1.17)  \n",
            "Q7               6.36 (1.09)  6.49 (0.91)  \n",
            "Q8               6.34 (1.03)  6.65 (0.62)  \n",
            "Q10              5.66 (1.35)  5.99 (1.27)  \n",
            "Q11              4.72 (1.31)   4.7 (1.47)  \n",
            "Q12              5.62 (1.48)  6.02 (1.22)  \n",
            "Q13              5.76 (1.48)  6.12 (1.16)  \n",
            "Q14              5.75 (1.81)  6.12 (1.22)  \n",
            "Q16              6.39 (0.94)  6.49 (1.05)  \n",
            "Q17               6.5 (0.86)   6.5 (0.96)  \n"
          ]
        }
      ]
    },
    {
      "cell_type": "code",
      "source": [
        "p_values_dict = {}\n",
        "\n",
        "for column in columns_to_check:\n",
        "    samples = [group[column].dropna().values for _, group in df.groupby('experiment_type')]\n",
        "    _, p = kruskal(*samples)\n",
        "    p_values_dict[column] = p\n",
        "\n",
        "\n",
        "\n",
        "means['p-value'] = pd.Series(p_values_dict)\n",
        "\n",
        "print(means)"
      ],
      "metadata": {
        "colab": {
          "base_uri": "https://localhost:8080/"
        },
        "id": "WJvHzvuszQgl",
        "outputId": "7ef4a8e6-ae94-4706-e9b4-4ec39d488fb5"
      },
      "execution_count": 14,
      "outputs": [
        {
          "output_type": "stream",
          "name": "stdout",
          "text": [
            "experiment_type     0     1     2     3     4     5   p-value\n",
            "Q1               5.64  5.51  5.81  5.92  5.50  5.91  0.214190\n",
            "Q2               5.21  5.44  5.55  5.65  5.54  5.99  0.168404\n",
            "Q3               4.85  4.60  5.13  4.86  4.58  5.18  0.176207\n",
            "Q4               5.60  5.66  5.68  5.88  5.79  6.01  0.285408\n",
            "Q5               5.52  5.66  5.59  5.65  5.39  5.68  0.850081\n",
            "Q6               6.38  6.04  6.17  6.30  5.98  6.35  0.054971\n",
            "Q7               6.30  6.34  6.35  6.50  6.36  6.49  0.652556\n",
            "Q8               6.33  6.12  6.45  6.26  6.34  6.65  0.118194\n",
            "Q10              5.94  5.84  5.46  5.65  5.66  5.99  0.047373\n",
            "Q11              4.44  4.69  4.49  4.41  4.72  4.70  0.464500\n",
            "Q12              5.65  5.60  5.91  5.84  5.62  6.02  0.387362\n",
            "Q13              5.54  5.53  5.97  5.98  5.76  6.12  0.018212\n",
            "Q14              5.72  5.77  6.06  5.99  5.75  6.12  0.781203\n",
            "Q16              6.27  6.23  6.41  6.38  6.39  6.49  0.393729\n",
            "Q17              6.38  6.27  6.58  6.34  6.50  6.50  0.295850\n"
          ]
        }
      ]
    }
  ]
}